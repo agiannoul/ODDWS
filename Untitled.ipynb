{
 "cells": [
  {
   "cell_type": "code",
   "execution_count": 3,
   "id": "d2f935eb",
   "metadata": {},
   "outputs": [
    {
     "data": {
      "text/plain": [
       "[<matplotlib.lines.Line2D at 0x1d4912d0100>]"
      ]
     },
     "execution_count": 3,
     "metadata": {},
     "output_type": "execute_result"
    }
   ],
   "source": [
    "%matplotlib qt\n",
    "import re\n",
    "import numpy as np\n",
    "import matplotlib.pyplot as plt\n",
    "import pandas as pd\n",
    "\n",
    "x,y = [], []\n",
    "\n",
    "import csv\n",
    "file1 = open('data.txt', 'r')\n",
    "Lines = file1.readlines()\n",
    "for row in Lines:\n",
    "    if re.match(\"[+-]?([0-9]*[.])?[0-9]+,[+-]?([0-9]*[.])?[0-9]+\",row):\n",
    "        row=row.split(\",\")\n",
    "        x.append(float(row[0]))\n",
    "        y.append(float(row[1]))\n",
    "\n",
    "plt.plot(x,y,\"b.\")\n"
   ]
  },
  {
   "cell_type": "code",
   "execution_count": 4,
   "id": "04a9a025",
   "metadata": {},
   "outputs": [
    {
     "data": {
      "text/plain": [
       "[<matplotlib.lines.Line2D at 0x1d49146d700>]"
      ]
     },
     "execution_count": 4,
     "metadata": {},
     "output_type": "execute_result"
    }
   ],
   "source": [
    "from sklearn.preprocessing import MinMaxScaler\n",
    "\n",
    "df= pd.DataFrame(\n",
    "    {'x': x,\n",
    "     'y': y  })\n",
    "\n",
    "scaler = MinMaxScaler()\n",
    "df[['x','y']]=scaler.fit_transform(df)\n",
    "plt.plot(df['x'],df['y'],\"b.\")"
   ]
  },
  {
   "cell_type": "code",
   "execution_count": 7,
   "id": "b6d1eec7",
   "metadata": {},
   "outputs": [
    {
     "name": "stdout",
     "output_type": "stream",
     "text": [
      "[4 2 2 ... 1 2 4]\n"
     ]
    }
   ],
   "source": [
    "#Import required module\n",
    "from sklearn.cluster import KMeans\n",
    " \n",
    "#Initialize the class object\n",
    "kmeans = KMeans(n_clusters= 5)\n",
    " \n",
    "#predict the labels of clusters.\n",
    "label = kmeans.fit_predict(df)\n",
    " \n",
    "print(label)\n",
    "\n",
    "u_labels = np.unique(label)\n",
    "centroids=kmeans.cluster_centers_\n",
    "#plotting the results:\n",
    " \n",
    "for i in u_labels:\n",
    "    plt.scatter(df[label == i]['x'] , df[label == i]['y'] , label = i)\n",
    "\n",
    "plt.scatter(centroids[:,0] , centroids[:,1] , s = 80, color = 'k')\n",
    "plt.legend()\n",
    "plt.show()"
   ]
  },
  {
   "cell_type": "code",
   "execution_count": 32,
   "id": "7bfaa2ac",
   "metadata": {},
   "outputs": [
    {
     "data": {
      "text/plain": [
       "array([], shape=(0, 2), dtype=float64)"
      ]
     },
     "execution_count": 32,
     "metadata": {},
     "output_type": "execute_result"
    }
   ],
   "source": []
  },
  {
   "cell_type": "code",
   "execution_count": null,
   "id": "eb5ed3fa",
   "metadata": {},
   "outputs": [],
   "source": []
  }
 ],
 "metadata": {
  "kernelspec": {
   "display_name": "Python 3",
   "language": "python",
   "name": "python3"
  },
  "language_info": {
   "codemirror_mode": {
    "name": "ipython",
    "version": 3
   },
   "file_extension": ".py",
   "mimetype": "text/x-python",
   "name": "python",
   "nbconvert_exporter": "python",
   "pygments_lexer": "ipython3",
   "version": "3.8.8"
  }
 },
 "nbformat": 4,
 "nbformat_minor": 5
}
