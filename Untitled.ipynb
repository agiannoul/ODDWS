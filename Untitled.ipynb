{
 "cells": [
  {
   "cell_type": "code",
   "execution_count": 46,
   "id": "d2f935eb",
   "metadata": {},
   "outputs": [
    {
     "data": {
      "text/plain": [
       "[<matplotlib.lines.Line2D at 0x250e97533a0>]"
      ]
     },
     "execution_count": 46,
     "metadata": {},
     "output_type": "execute_result"
    }
   ],
   "source": [
    "%matplotlib qt\n",
    "import re\n",
    "import numpy as np\n",
    "import matplotlib.pyplot as plt\n",
    "import pandas as pd\n",
    "\n",
    "x,y = [], []\n",
    "\n",
    "import csv\n",
    "file1 = open('kati.txt', 'r')\n",
    "Lines = file1.readlines()\n",
    "for row in Lines:\n",
    "    if re.match(\"[+-]?([0-9]*[.])?[0-9]+,[+-]?([0-9]*[.])?[0-9]+\",row):\n",
    "        row=row.split(\",\")\n",
    "        x.append(float(row[0]))\n",
    "        y.append(float(row[1]))\n",
    "\n",
    "plt.plot(x,y,\"b.\")\n"
   ]
  },
  {
   "cell_type": "code",
   "execution_count": 18,
   "id": "04a9a025",
   "metadata": {},
   "outputs": [
    {
     "name": "stdout",
     "output_type": "stream",
     "text": [
      "              x         y\n",
      "0      0.809561  0.936927\n",
      "1      0.093485  0.944954\n",
      "2      0.251349  0.517202\n",
      "3      0.794526  0.043578\n",
      "4      0.667887  0.763761\n",
      "...         ...       ...\n",
      "46983  0.241712  0.557339\n",
      "46984  0.756168  0.566514\n",
      "46985  0.193138  0.253440\n",
      "46986  0.115652  0.870413\n",
      "46987  0.443331  0.904817\n",
      "\n",
      "[46988 rows x 2 columns]\n"
     ]
    },
    {
     "data": {
      "text/plain": [
       "[<matplotlib.lines.Line2D at 0x250e9e5f340>]"
      ]
     },
     "execution_count": 18,
     "metadata": {},
     "output_type": "execute_result"
    }
   ],
   "source": [
    "from sklearn.preprocessing import MinMaxScaler\n",
    "\n",
    "df= pd.DataFrame(\n",
    "    {'x': x,\n",
    "     'y': y  })\n",
    "\n",
    "scaler = MinMaxScaler()\n",
    "df[['x','y']]=scaler.fit_transform(df)\n",
    "plt.plot(df['x'],df['y'],\"b.\")"
   ]
  },
  {
   "cell_type": "code",
   "execution_count": 45,
   "id": "b6d1eec7",
   "metadata": {},
   "outputs": [
    {
     "name": "stdout",
     "output_type": "stream",
     "text": [
      "[174  54  32 ...  97 189  74]\n"
     ]
    }
   ],
   "source": [
    "#Import required module\n",
    "from sklearn.cluster import KMeans\n",
    " \n",
    "#Initialize the class object\n",
    "kmeans = KMeans(n_clusters= 200)\n",
    " \n",
    "#predict the labels of clusters.\n",
    "label = kmeans.fit_predict(df)\n",
    " \n",
    "print(label)\n",
    "\n",
    "u_labels = np.unique(label)\n",
    "centroids=kmeans.cluster_centers_\n",
    "#plotting the results:\n",
    " \n",
    "for i in u_labels:\n",
    "    plt.scatter(df[label == i]['x'] , df[label == i]['y'] , label = i)\n",
    "\n",
    "plt.scatter(centroids[:,0] , centroids[:,1] , s = 80, color = 'k')\n",
    "plt.legend()\n",
    "plt.show()"
   ]
  },
  {
   "cell_type": "code",
   "execution_count": 32,
   "id": "7bfaa2ac",
   "metadata": {},
   "outputs": [
    {
     "data": {
      "text/plain": [
       "array([], shape=(0, 2), dtype=float64)"
      ]
     },
     "execution_count": 32,
     "metadata": {},
     "output_type": "execute_result"
    }
   ],
   "source": []
  },
  {
   "cell_type": "code",
   "execution_count": null,
   "id": "eb5ed3fa",
   "metadata": {},
   "outputs": [],
   "source": []
  }
 ],
 "metadata": {
  "kernelspec": {
   "display_name": "Python 3",
   "language": "python",
   "name": "python3"
  },
  "language_info": {
   "codemirror_mode": {
    "name": "ipython",
    "version": 3
   },
   "file_extension": ".py",
   "mimetype": "text/x-python",
   "name": "python",
   "nbconvert_exporter": "python",
   "pygments_lexer": "ipython3",
   "version": "3.8.8"
  }
 },
 "nbformat": 4,
 "nbformat_minor": 5
}
